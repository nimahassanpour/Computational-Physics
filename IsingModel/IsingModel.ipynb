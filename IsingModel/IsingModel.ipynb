{
 "cells": [
  {
   "cell_type": "code",
   "execution_count": 1,
   "metadata": {
    "collapsed": true
   },
   "outputs": [],
   "source": [
    "import numpy as np\n",
    "import matplotlib.pyplot as plt\n",
    "import math"
   ]
  },
  {
   "cell_type": "code",
   "execution_count": 2,
   "metadata": {
    "collapsed": true
   },
   "outputs": [],
   "source": [
    "#----------------------------------------------------------------------#\n",
    "#   Build the system\n",
    "#----------------------------------------------------------------------#\n",
    "def hot_start():\n",
    "    lattice = np.random.random_integers(0,1,(ns,ns))\n",
    "    lattice[lattice==0] =- 1\n",
    " \n",
    "    return lattice\n",
    " \n",
    "def cold_start():\n",
    "    lattice = np.ones((ns,ns))\n",
    " \n",
    "    return lattice"
   ]
  },
  {
   "cell_type": "code",
   "execution_count": 3,
   "metadata": {
    "collapsed": true
   },
   "outputs": [],
   "source": [
    "#----------------------------------------------------------------------#\n",
    "#   Periodic boundary conditions \n",
    "#----------------------------------------------------------------------#\n",
    "def bc(i):\n",
    "    if i > ns-1:\n",
    "        return 0\n",
    "    if i < 0:\n",
    "        return ns-1\n",
    "    else:\n",
    "        return i\n",
    " \n",
    "#----------------------------------------------------------------------#\n",
    "#   Measure magnetization\n",
    "#----------------------------------------------------------------------#\n",
    " \n",
    "def mag(lattice):\n",
    "    m = 0.\n",
    "    for j in range(0,ns):\n",
    "                for k in range(0,ns):\n",
    "                    m += lattice[j,k]\n",
    "    return m/(ns*ns)    "
   ]
  },
  {
   "cell_type": "code",
   "execution_count": 4,
   "metadata": {
    "collapsed": true
   },
   "outputs": [],
   "source": [
    "#----------------------------------------------------------------------#\n",
    "#   Calculate internal energy\n",
    "#----------------------------------------------------------------------#\n",
    "def energy(lattice, N, M):\n",
    "    return -1 * lattice[N,M] * (lattice[bc(N-1), M] \\\n",
    "                               + lattice[bc(N+1), M] \\\n",
    "                               + lattice[N, bc(M-1)] \\\n",
    "                               + lattice[N, bc(M+1)])\n",
    " \n",
    "def sum_nn(lattice, N, M):\n",
    "    return (lattice[bc(N-1), M] + lattice[bc(N+1), M] + lattice[N, bc(M-1)] + lattice[N, bc(M+1)])"
   ]
  },
  {
   "cell_type": "code",
   "execution_count": 6,
   "metadata": {
    "collapsed": true
   },
   "outputs": [],
   "source": [
    "#----------------------------------------------------------------------#\n",
    "#   The Main monte carlo loop\n",
    "#----------------------------------------------------------------------#\n",
    "def update(beta):\n",
    "    #lattice = hot_start()\n",
    " \n",
    "    for step in enumerate(range(ns*nw)):\n",
    "        j = np.random.randint(0,ns)\n",
    "        k = np.random.randint(0,ns)\n",
    " \n",
    "        E = -2. * energy(lattice, N, M)\n",
    " \n",
    "        if E <= 0.:\n",
    "            lattice[j,k] *= -1\n",
    "        elif np.exp(-beta*E) > np.random.rand():\n",
    "            lattice[j,k] *= -1\n",
    " \n",
    "def sweep(lattice, beta):\n",
    "    acc = 0\n",
    "    for j in range(0,ns):\n",
    "            for k in range(0,ns):\n",
    "                sum_nn = lattice[bc(j-1), k] + lattice[bc(j+1), k] + lattice[j, bc(k-1)] + lattice[j, bc(k+1)]\n",
    "                new_spin = -lattice[j,k]\n",
    "                dE =-1*(new_spin-lattice[j,k])*sum_nn\n",
    "                if dE <= 0.:\n",
    "                    lattice[j,k] = new_spin\n",
    "                    acc += 1\n",
    "                elif np.exp(-beta*dE) > np.random.rand():\n",
    "                    lattice[j,k] = new_spin\n",
    "                    acc += 1\n",
    "    accept = (1.*acc)/(ns*ns)"
   ]
  },
  {
   "cell_type": "code",
   "execution_count": 7,
   "metadata": {
    "collapsed": false
   },
   "outputs": [
    {
     "name": "stdout",
     "output_type": "stream",
     "text": [
      "Size =  25\n",
      "Initial sweeps =  10\n",
      "Sweeps =  250\n",
      "beta =  0.4\n",
      "Average m: 0.1455104\n"
     ]
    },
    {
     "data": {
      "image/png": "[encoded data removed]",
      "text/plain": [
       "<matplotlib.figure.Figure at 0x7c0a278>"
      ]
     },
     "metadata": {},
     "output_type": "display_data"
    }
   ],
   "source": [
    "#----------------------------------------------------------------------#\n",
    "#   Main\n",
    "#----------------------------------------------------------------------#\n",
    " \n",
    " \n",
    "ns = 25\n",
    "ninit = 10\n",
    "nsweeps = 250\n",
    "beta = 0.4\n",
    " \n",
    "print(\"Size = \", ns)\n",
    "print(\"Initial sweeps = \",ninit)\n",
    "print(\"Sweeps = \", nsweeps)\n",
    "print(\"beta = \", beta)\n",
    "accept = 0.0\n",
    "lattice = cold_start()\n",
    "for n in range(ninit):\n",
    "    sweep(lattice, beta)\n",
    "    #update(beta)\n",
    "    m = mag(lattice)\n",
    "    #print(\"Sweep: \",n, \"Mag = \" ,m)\n",
    "    \n",
    "m = mag(lattice)\n",
    "#print(\"Mag = \" ,m)\n",
    "mav = 0\n",
    "mlist = np.ones(nsweeps)\n",
    "\n",
    "for n in range(nsweeps):\n",
    "    sweep(lattice, beta)\n",
    "    #update(beta)\n",
    "    m = mag(lattice)\n",
    "    mav += m\n",
    "    mlist[n]=m\n",
    "    #print(\"Sweep: \",n, \"Mag = \" ,m)\n",
    " \n",
    "mav = mav / nsweeps\n",
    "print(\"Average m:\", mav)\n",
    "plt.plot(mlist)\n",
    "plt.show()"
   ]
  },
  {
   "cell_type": "code",
   "execution_count": null,
   "metadata": {
    "collapsed": true
   },
   "outputs": [],
   "source": []
  }
 ],
 "metadata": {
  "anaconda-cloud": {},
  "kernelspec": {
   "display_name": "Python [default]",
   "language": "python",
   "name": "python3"
  },
  "language_info": {
   "codemirror_mode": {
    "name": "ipython",
    "version": 3
   },
   "file_extension": ".py",
   "mimetype": "text/x-python",
   "name": "python",
   "nbconvert_exporter": "python",
   "pygments_lexer": "ipython3",
   "version": "3.5.2"
  }
 },
 "nbformat": 4,
 "nbformat_minor": 1
}
